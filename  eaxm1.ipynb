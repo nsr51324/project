{
 "cells": [
  {
   "cell_type": "code",
   "execution_count": null,
   "id": "bd0b2923-e45e-4547-94e3-e7ebcb47615d",
   "metadata": {},
   "outputs": [],
   "source": []
  }
 ],
 "metadata": {
  "kernelspec": {
   "display_name": "",
   "name": ""
  },
  "language_info": {
   "name": ""
  }
 },
 "nbformat": 4,
 "nbformat_minor": 5
}
